{
  "cells": [
    {
      "cell_type": "code",
      "execution_count": null,
      "metadata": {
        "id": "4aGFJl9GRwyG"
      },
      "outputs": [],
      "source": [
        "pip install --upgrade keras-cv"
      ]
    },
    {
      "cell_type": "code",
      "execution_count": null,
      "metadata": {
        "colab": {
          "base_uri": "https://localhost:8080/"
        },
        "id": "tVcnTVyEfcmg",
        "outputId": "f03c30d1-bc2c-4d89-c7c2-f8db7f6b7071"
      },
      "outputs": [
        {
          "name": "stdout",
          "output_type": "stream",
          "text": [
            "Mounted at /content/drive\n",
            "Drive already mounted at /content/drive/; to attempt to forcibly remount, call drive.mount(\"/content/drive/\", force_remount=True).\n"
          ]
        }
      ],
      "source": [
        "from google.colab import drive\n",
        "import os\n",
        "import pandas as pd\n",
        "import tensorflow as tf\n",
        "from tensorflow import keras\n",
        "import numpy as np\n",
        "\n",
        "drive.mount('/content/drive')\n",
        "\n",
        "\n",
        "read_from_drive = True\n",
        "\n",
        "if read_from_drive:\n",
        "  drive.mount('/content/drive/')\n",
        "  train_path = '/content/drive/MyDrive/COMP90086_2024_Project_train'\n",
        "  test_path = '/content/drive/MyDrive/COMP90086_2024_Project_test'\n",
        "else:\n",
        "  train_path = \"./COMP90086_2024_Project_train\"\n",
        "  test_path = \"./COMP90086_2024_Project_test\"\n",
        "\n"
      ]
    },
    {
      "cell_type": "code",
      "execution_count": null,
      "metadata": {
        "id": "IUvih15cdnxk"
      },
      "outputs": [],
      "source": [
        "# the parameters\n",
        "DIM = 224\n",
        "EPOCHS = 40\n",
        "BATCH = 32\n",
        "DROPOUT = 0.3\n",
        "LEARNING = 2e-5"
      ]
    },
    {
      "cell_type": "code",
      "execution_count": null,
      "metadata": {
        "colab": {
          "base_uri": "https://localhost:8080/"
        },
        "id": "brWEPK2Wd7gP",
        "outputId": "98f339c3-2fc2-4c98-cc9b-f9af4bc68e09"
      },
      "outputs": [
        {
          "name": "stdout",
          "output_type": "stream",
          "text": [
            "Found 7680 files belonging to 6 classes.\n",
            "Using 6144 files for training.\n",
            "Using 1536 files for validation.\n"
          ]
        }
      ],
      "source": [
        "train_df = pd.read_csv(os.path.join(train_path, \"train.csv\"))\n",
        "test_df = pd.read_csv(os.path.join(test_path, \"test.csv\"))\n",
        "\n",
        "train_df['id'] = train_df['id'].astype(str)\n",
        "train_df.sort_values(\"id\", inplace=True)\n",
        "\n",
        "train_labels = list(train_df['stable_height'])\n",
        "\n",
        "\n",
        "image_dataset = tf.keras.utils.image_dataset_from_directory(\n",
        "    train_path,\n",
        "    labels=train_labels,\n",
        "    label_mode='categorical',\n",
        "    validation_split=0.2,\n",
        "    subset='both',\n",
        "    seed=42,\n",
        "    image_size=(DIM, DIM),\n",
        "    shuffle = False,\n",
        "    batch_size= BATCH\n",
        ")\n",
        "\n",
        "\n",
        "train_dataset = image_dataset[0]\n",
        "validation_dataset = image_dataset[1]"
      ]
    },
    {
      "cell_type": "code",
      "execution_count": null,
      "metadata": {
        "colab": {
          "base_uri": "https://localhost:8080/"
        },
        "id": "4QU-pR5fhHcJ",
        "outputId": "38369ffe-7845-4288-fbcf-fd7ab0ccd3bc"
      },
      "outputs": [
        {
          "name": "stdout",
          "output_type": "stream",
          "text": [
            "Number of distinct labels: 6\n"
          ]
        }
      ],
      "source": [
        "num_distinct_labels = len(set(train_labels))\n",
        "print(\"Number of distinct labels:\", num_distinct_labels)\n"
      ]
    },
    {
      "cell_type": "code",
      "execution_count": null,
      "metadata": {
        "colab": {
          "base_uri": "https://localhost:8080/"
        },
        "id": "lPJ67IRTc4cH",
        "outputId": "869a03aa-b8f8-4ea6-8e95-ba6a745dc37a"
      },
      "outputs": [
        {
          "name": "stdout",
          "output_type": "stream",
          "text": [
            "Downloading data from https://storage.googleapis.com/tensorflow/keras-applications/vgg19/vgg19_weights_tf_dim_ordering_tf_kernels_notop.h5\n",
            "\u001b[1m80134624/80134624\u001b[0m \u001b[32m━━━━━━━━━━━━━━━━━━━━\u001b[0m\u001b[37m\u001b[0m \u001b[1m0s\u001b[0m 0us/step\n"
          ]
        }
      ],
      "source": [
        "from tensorflow.keras.applications import VGG19\n",
        "\n",
        "base_model = VGG19(weights='imagenet', include_top=False, input_shape=(224, 224, 3))\n",
        "\n",
        "# Make sure the weights are not freezed\n",
        "for layer in base_model.layers:\n",
        "  layer.trainable = True\n"
      ]
    },
    {
      "cell_type": "code",
      "execution_count": null,
      "metadata": {
        "colab": {
          "base_uri": "https://localhost:8080/"
        },
        "id": "7mZZDfX1gWTn",
        "outputId": "1383d502-234c-40cf-a7d5-306ea80472a6"
      },
      "outputs": [
        {
          "name": "stdout",
          "output_type": "stream",
          "text": [
            "Epoch 1/40\n",
            "\u001b[1m192/192\u001b[0m \u001b[32m━━━━━━━━━━━━━━━━━━━━\u001b[0m\u001b[37m\u001b[0m \u001b[1m0s\u001b[0m 933ms/step - accuracy: 0.2174 - loss: 1.6679\n",
            "Epoch 1: val_accuracy improved from -inf to 0.25065, saving model to /content/drive/MyDrive/best_model.weights.h5\n",
            "\u001b[1m192/192\u001b[0m \u001b[32m━━━━━━━━━━━━━━━━━━━━\u001b[0m\u001b[37m\u001b[0m \u001b[1m203s\u001b[0m 969ms/step - accuracy: 0.2174 - loss: 1.6677 - val_accuracy: 0.2507 - val_loss: 1.5325\n",
            "Epoch 2/40\n",
            "\u001b[1m192/192\u001b[0m \u001b[32m━━━━━━━━━━━━━━━━━━━━\u001b[0m\u001b[37m\u001b[0m \u001b[1m0s\u001b[0m 64ms/step - accuracy: 0.2312 - loss: 1.5776\n",
            "Epoch 2: val_accuracy did not improve from 0.25065\n",
            "\u001b[1m192/192\u001b[0m \u001b[32m━━━━━━━━━━━━━━━━━━━━\u001b[0m\u001b[37m\u001b[0m \u001b[1m14s\u001b[0m 75ms/step - accuracy: 0.2312 - loss: 1.5775 - val_accuracy: 0.2370 - val_loss: 1.5272\n",
            "Epoch 3/40\n",
            "\u001b[1m192/192\u001b[0m \u001b[32m━━━━━━━━━━━━━━━━━━━━\u001b[0m\u001b[37m\u001b[0m \u001b[1m0s\u001b[0m 63ms/step - accuracy: 0.2346 - loss: 1.5735\n",
            "Epoch 3: val_accuracy did not improve from 0.25065\n",
            "\u001b[1m192/192\u001b[0m \u001b[32m━━━━━━━━━━━━━━━━━━━━\u001b[0m\u001b[37m\u001b[0m \u001b[1m14s\u001b[0m 74ms/step - accuracy: 0.2347 - loss: 1.5734 - val_accuracy: 0.2409 - val_loss: 1.5236\n",
            "Epoch 4/40\n",
            "\u001b[1m192/192\u001b[0m \u001b[32m━━━━━━━━━━━━━━━━━━━━\u001b[0m\u001b[37m\u001b[0m \u001b[1m0s\u001b[0m 67ms/step - accuracy: 0.2274 - loss: 1.5674\n",
            "Epoch 4: val_accuracy did not improve from 0.25065\n",
            "\u001b[1m192/192\u001b[0m \u001b[32m━━━━━━━━━━━━━━━━━━━━\u001b[0m\u001b[37m\u001b[0m \u001b[1m15s\u001b[0m 78ms/step - accuracy: 0.2274 - loss: 1.5674 - val_accuracy: 0.2487 - val_loss: 1.5180\n",
            "Epoch 5/40\n",
            "\u001b[1m192/192\u001b[0m \u001b[32m━━━━━━━━━━━━━━━━━━━━\u001b[0m\u001b[37m\u001b[0m \u001b[1m0s\u001b[0m 64ms/step - accuracy: 0.2210 - loss: 1.5626\n",
            "Epoch 5: val_accuracy improved from 0.25065 to 0.26823, saving model to /content/drive/MyDrive/best_model.weights.h5\n",
            "\u001b[1m192/192\u001b[0m \u001b[32m━━━━━━━━━━━━━━━━━━━━\u001b[0m\u001b[37m\u001b[0m \u001b[1m18s\u001b[0m 92ms/step - accuracy: 0.2211 - loss: 1.5626 - val_accuracy: 0.2682 - val_loss: 1.4824\n",
            "Epoch 6/40\n",
            "\u001b[1m192/192\u001b[0m \u001b[32m━━━━━━━━━━━━━━━━━━━━\u001b[0m\u001b[37m\u001b[0m \u001b[1m0s\u001b[0m 67ms/step - accuracy: 0.2506 - loss: 1.5464\n",
            "Epoch 6: val_accuracy did not improve from 0.26823\n",
            "\u001b[1m192/192\u001b[0m \u001b[32m━━━━━━━━━━━━━━━━━━━━\u001b[0m\u001b[37m\u001b[0m \u001b[1m15s\u001b[0m 78ms/step - accuracy: 0.2506 - loss: 1.5464 - val_accuracy: 0.2337 - val_loss: 1.5179\n",
            "Epoch 7/40\n",
            "\u001b[1m192/192\u001b[0m \u001b[32m━━━━━━━━━━━━━━━━━━━━\u001b[0m\u001b[37m\u001b[0m \u001b[1m0s\u001b[0m 63ms/step - accuracy: 0.2364 - loss: 1.5380\n",
            "Epoch 7: val_accuracy improved from 0.26823 to 0.29818, saving model to /content/drive/MyDrive/best_model.weights.h5\n",
            "\u001b[1m192/192\u001b[0m \u001b[32m━━━━━━━━━━━━━━━━━━━━\u001b[0m\u001b[37m\u001b[0m \u001b[1m19s\u001b[0m 99ms/step - accuracy: 0.2364 - loss: 1.5380 - val_accuracy: 0.2982 - val_loss: 1.4427\n",
            "Epoch 8/40\n",
            "\u001b[1m192/192\u001b[0m \u001b[32m━━━━━━━━━━━━━━━━━━━━\u001b[0m\u001b[37m\u001b[0m \u001b[1m0s\u001b[0m 67ms/step - accuracy: 0.2509 - loss: 1.5085\n",
            "Epoch 8: val_accuracy improved from 0.29818 to 0.35091, saving model to /content/drive/MyDrive/best_model.weights.h5\n",
            "\u001b[1m192/192\u001b[0m \u001b[32m━━━━━━━━━━━━━━━━━━━━\u001b[0m\u001b[37m\u001b[0m \u001b[1m19s\u001b[0m 96ms/step - accuracy: 0.2509 - loss: 1.5085 - val_accuracy: 0.3509 - val_loss: 1.3935\n",
            "Epoch 9/40\n",
            "\u001b[1m192/192\u001b[0m \u001b[32m━━━━━━━━━━━━━━━━━━━━\u001b[0m\u001b[37m\u001b[0m \u001b[1m0s\u001b[0m 67ms/step - accuracy: 0.2650 - loss: 1.4839\n",
            "Epoch 9: val_accuracy did not improve from 0.35091\n",
            "\u001b[1m192/192\u001b[0m \u001b[32m━━━━━━━━━━━━━━━━━━━━\u001b[0m\u001b[37m\u001b[0m \u001b[1m15s\u001b[0m 78ms/step - accuracy: 0.2650 - loss: 1.4838 - val_accuracy: 0.3470 - val_loss: 1.3663\n",
            "Epoch 10/40\n",
            "\u001b[1m192/192\u001b[0m \u001b[32m━━━━━━━━━━━━━━━━━━━━\u001b[0m\u001b[37m\u001b[0m \u001b[1m0s\u001b[0m 63ms/step - accuracy: 0.2898 - loss: 1.4711\n",
            "Epoch 10: val_accuracy improved from 0.35091 to 0.38672, saving model to /content/drive/MyDrive/best_model.weights.h5\n",
            "\u001b[1m192/192\u001b[0m \u001b[32m━━━━━━━━━━━━━━━━━━━━\u001b[0m\u001b[37m\u001b[0m \u001b[1m19s\u001b[0m 100ms/step - accuracy: 0.2898 - loss: 1.4711 - val_accuracy: 0.3867 - val_loss: 1.3335\n",
            "Epoch 11/40\n",
            "\u001b[1m192/192\u001b[0m \u001b[32m━━━━━━━━━━━━━━━━━━━━\u001b[0m\u001b[37m\u001b[0m \u001b[1m0s\u001b[0m 67ms/step - accuracy: 0.2906 - loss: 1.4454\n",
            "Epoch 11: val_accuracy improved from 0.38672 to 0.38802, saving model to /content/drive/MyDrive/best_model.weights.h5\n",
            "\u001b[1m192/192\u001b[0m \u001b[32m━━━━━━━━━━━━━━━━━━━━\u001b[0m\u001b[37m\u001b[0m \u001b[1m18s\u001b[0m 94ms/step - accuracy: 0.2906 - loss: 1.4453 - val_accuracy: 0.3880 - val_loss: 1.2778\n",
            "Epoch 12/40\n",
            "\u001b[1m192/192\u001b[0m \u001b[32m━━━━━━━━━━━━━━━━━━━━\u001b[0m\u001b[37m\u001b[0m \u001b[1m0s\u001b[0m 67ms/step - accuracy: 0.3123 - loss: 1.4111\n",
            "Epoch 12: val_accuracy improved from 0.38802 to 0.44076, saving model to /content/drive/MyDrive/best_model.weights.h5\n",
            "\u001b[1m192/192\u001b[0m \u001b[32m━━━━━━━━━━━━━━━━━━━━\u001b[0m\u001b[37m\u001b[0m \u001b[1m18s\u001b[0m 93ms/step - accuracy: 0.3123 - loss: 1.4111 - val_accuracy: 0.4408 - val_loss: 1.2349\n",
            "Epoch 13/40\n",
            "\u001b[1m192/192\u001b[0m \u001b[32m━━━━━━━━━━━━━━━━━━━━\u001b[0m\u001b[37m\u001b[0m \u001b[1m0s\u001b[0m 63ms/step - accuracy: 0.3148 - loss: 1.3889\n",
            "Epoch 13: val_accuracy improved from 0.44076 to 0.44727, saving model to /content/drive/MyDrive/best_model.weights.h5\n",
            "\u001b[1m192/192\u001b[0m \u001b[32m━━━━━━━━━━━━━━━━━━━━\u001b[0m\u001b[37m\u001b[0m \u001b[1m18s\u001b[0m 87ms/step - accuracy: 0.3148 - loss: 1.3889 - val_accuracy: 0.4473 - val_loss: 1.2165\n",
            "Epoch 14/40\n",
            "\u001b[1m192/192\u001b[0m \u001b[32m━━━━━━━━━━━━━━━━━━━━\u001b[0m\u001b[37m\u001b[0m \u001b[1m0s\u001b[0m 64ms/step - accuracy: 0.3324 - loss: 1.3871\n",
            "Epoch 14: val_accuracy did not improve from 0.44727\n",
            "\u001b[1m192/192\u001b[0m \u001b[32m━━━━━━━━━━━━━━━━━━━━\u001b[0m\u001b[37m\u001b[0m \u001b[1m15s\u001b[0m 74ms/step - accuracy: 0.3325 - loss: 1.3870 - val_accuracy: 0.4323 - val_loss: 1.2012\n",
            "Epoch 15/40\n",
            "\u001b[1m192/192\u001b[0m \u001b[32m━━━━━━━━━━━━━━━━━━━━\u001b[0m\u001b[37m\u001b[0m \u001b[1m0s\u001b[0m 63ms/step - accuracy: 0.3377 - loss: 1.3537\n",
            "Epoch 15: val_accuracy improved from 0.44727 to 0.46940, saving model to /content/drive/MyDrive/best_model.weights.h5\n",
            "\u001b[1m192/192\u001b[0m \u001b[32m━━━━━━━━━━━━━━━━━━━━\u001b[0m\u001b[37m\u001b[0m \u001b[1m17s\u001b[0m 89ms/step - accuracy: 0.3378 - loss: 1.3536 - val_accuracy: 0.4694 - val_loss: 1.1673\n",
            "Epoch 16/40\n",
            "\u001b[1m192/192\u001b[0m \u001b[32m━━━━━━━━━━━━━━━━━━━━\u001b[0m\u001b[37m\u001b[0m \u001b[1m0s\u001b[0m 63ms/step - accuracy: 0.3616 - loss: 1.3421\n",
            "Epoch 16: val_accuracy improved from 0.46940 to 0.48503, saving model to /content/drive/MyDrive/best_model.weights.h5\n",
            "\u001b[1m192/192\u001b[0m \u001b[32m━━━━━━━━━━━━━━━━━━━━\u001b[0m\u001b[37m\u001b[0m \u001b[1m19s\u001b[0m 92ms/step - accuracy: 0.3616 - loss: 1.3421 - val_accuracy: 0.4850 - val_loss: 1.1357\n",
            "Epoch 17/40\n",
            "\u001b[1m192/192\u001b[0m \u001b[32m━━━━━━━━━━━━━━━━━━━━\u001b[0m\u001b[37m\u001b[0m \u001b[1m0s\u001b[0m 64ms/step - accuracy: 0.3819 - loss: 1.3006\n",
            "Epoch 17: val_accuracy did not improve from 0.48503\n",
            "\u001b[1m192/192\u001b[0m \u001b[32m━━━━━━━━━━━━━━━━━━━━\u001b[0m\u001b[37m\u001b[0m \u001b[1m15s\u001b[0m 74ms/step - accuracy: 0.3819 - loss: 1.3006 - val_accuracy: 0.4720 - val_loss: 1.1343\n",
            "Epoch 18/40\n",
            "\u001b[1m192/192\u001b[0m \u001b[32m━━━━━━━━━━━━━━━━━━━━\u001b[0m\u001b[37m\u001b[0m \u001b[1m0s\u001b[0m 63ms/step - accuracy: 0.3610 - loss: 1.3026\n",
            "Epoch 18: val_accuracy did not improve from 0.48503\n",
            "\u001b[1m192/192\u001b[0m \u001b[32m━━━━━━━━━━━━━━━━━━━━\u001b[0m\u001b[37m\u001b[0m \u001b[1m14s\u001b[0m 73ms/step - accuracy: 0.3611 - loss: 1.3026 - val_accuracy: 0.4818 - val_loss: 1.1150\n",
            "Epoch 19/40\n",
            "\u001b[1m192/192\u001b[0m \u001b[32m━━━━━━━━━━━━━━━━━━━━\u001b[0m\u001b[37m\u001b[0m \u001b[1m0s\u001b[0m 63ms/step - accuracy: 0.3555 - loss: 1.3060\n",
            "Epoch 19: val_accuracy improved from 0.48503 to 0.48828, saving model to /content/drive/MyDrive/best_model.weights.h5\n",
            "\u001b[1m192/192\u001b[0m \u001b[32m━━━━━━━━━━━━━━━━━━━━\u001b[0m\u001b[37m\u001b[0m \u001b[1m18s\u001b[0m 94ms/step - accuracy: 0.3556 - loss: 1.3059 - val_accuracy: 0.4883 - val_loss: 1.1230\n",
            "Epoch 20/40\n",
            "\u001b[1m192/192\u001b[0m \u001b[32m━━━━━━━━━━━━━━━━━━━━\u001b[0m\u001b[37m\u001b[0m \u001b[1m0s\u001b[0m 67ms/step - accuracy: 0.3889 - loss: 1.2730\n",
            "Epoch 20: val_accuracy improved from 0.48828 to 0.49154, saving model to /content/drive/MyDrive/best_model.weights.h5\n",
            "\u001b[1m192/192\u001b[0m \u001b[32m━━━━━━━━━━━━━━━━━━━━\u001b[0m\u001b[37m\u001b[0m \u001b[1m19s\u001b[0m 97ms/step - accuracy: 0.3889 - loss: 1.2730 - val_accuracy: 0.4915 - val_loss: 1.1179\n",
            "Epoch 21/40\n",
            "\u001b[1m192/192\u001b[0m \u001b[32m━━━━━━━━━━━━━━━━━━━━\u001b[0m\u001b[37m\u001b[0m \u001b[1m0s\u001b[0m 67ms/step - accuracy: 0.3908 - loss: 1.2585\n",
            "Epoch 21: val_accuracy did not improve from 0.49154\n",
            "\u001b[1m192/192\u001b[0m \u001b[32m━━━━━━━━━━━━━━━━━━━━\u001b[0m\u001b[37m\u001b[0m \u001b[1m15s\u001b[0m 77ms/step - accuracy: 0.3908 - loss: 1.2584 - val_accuracy: 0.4876 - val_loss: 1.1181\n",
            "Epoch 22/40\n",
            "\u001b[1m192/192\u001b[0m \u001b[32m━━━━━━━━━━━━━━━━━━━━\u001b[0m\u001b[37m\u001b[0m \u001b[1m0s\u001b[0m 63ms/step - accuracy: 0.4098 - loss: 1.2589\n",
            "Epoch 22: val_accuracy improved from 0.49154 to 0.50065, saving model to /content/drive/MyDrive/best_model.weights.h5\n",
            "\u001b[1m192/192\u001b[0m \u001b[32m━━━━━━━━━━━━━━━━━━━━\u001b[0m\u001b[37m\u001b[0m \u001b[1m18s\u001b[0m 93ms/step - accuracy: 0.4098 - loss: 1.2588 - val_accuracy: 0.5007 - val_loss: 1.0909\n",
            "Epoch 23/40\n",
            "\u001b[1m192/192\u001b[0m \u001b[32m━━━━━━━━━━━━━━━━━━━━\u001b[0m\u001b[37m\u001b[0m \u001b[1m0s\u001b[0m 67ms/step - accuracy: 0.3952 - loss: 1.2653\n",
            "Epoch 23: val_accuracy improved from 0.50065 to 0.50716, saving model to /content/drive/MyDrive/best_model.weights.h5\n",
            "\u001b[1m192/192\u001b[0m \u001b[32m━━━━━━━━━━━━━━━━━━━━\u001b[0m\u001b[37m\u001b[0m \u001b[1m16s\u001b[0m 83ms/step - accuracy: 0.3953 - loss: 1.2652 - val_accuracy: 0.5072 - val_loss: 1.1305\n",
            "Epoch 24/40\n",
            "\u001b[1m192/192\u001b[0m \u001b[32m━━━━━━━━━━━━━━━━━━━━\u001b[0m\u001b[37m\u001b[0m \u001b[1m0s\u001b[0m 66ms/step - accuracy: 0.4022 - loss: 1.2472\n",
            "Epoch 24: val_accuracy improved from 0.50716 to 0.52148, saving model to /content/drive/MyDrive/best_model.weights.h5\n",
            "\u001b[1m192/192\u001b[0m \u001b[32m━━━━━━━━━━━━━━━━━━━━\u001b[0m\u001b[37m\u001b[0m \u001b[1m16s\u001b[0m 83ms/step - accuracy: 0.4023 - loss: 1.2471 - val_accuracy: 0.5215 - val_loss: 1.1354\n",
            "Epoch 25/40\n",
            "\u001b[1m192/192\u001b[0m \u001b[32m━━━━━━━━━━━━━━━━━━━━\u001b[0m\u001b[37m\u001b[0m \u001b[1m0s\u001b[0m 64ms/step - accuracy: 0.4124 - loss: 1.2335\n",
            "Epoch 25: val_accuracy did not improve from 0.52148\n",
            "\u001b[1m192/192\u001b[0m \u001b[32m━━━━━━━━━━━━━━━━━━━━\u001b[0m\u001b[37m\u001b[0m \u001b[1m14s\u001b[0m 74ms/step - accuracy: 0.4124 - loss: 1.2336 - val_accuracy: 0.5130 - val_loss: 1.1636\n",
            "Epoch 26/40\n",
            "\u001b[1m192/192\u001b[0m \u001b[32m━━━━━━━━━━━━━━━━━━━━\u001b[0m\u001b[37m\u001b[0m \u001b[1m0s\u001b[0m 63ms/step - accuracy: 0.4181 - loss: 1.2178\n",
            "Epoch 26: val_accuracy did not improve from 0.52148\n",
            "\u001b[1m192/192\u001b[0m \u001b[32m━━━━━━━━━━━━━━━━━━━━\u001b[0m\u001b[37m\u001b[0m \u001b[1m14s\u001b[0m 74ms/step - accuracy: 0.4182 - loss: 1.2177 - val_accuracy: 0.5091 - val_loss: 1.2031\n",
            "Epoch 27/40\n",
            "\u001b[1m192/192\u001b[0m \u001b[32m━━━━━━━━━━━━━━━━━━━━\u001b[0m\u001b[37m\u001b[0m \u001b[1m0s\u001b[0m 65ms/step - accuracy: 0.4397 - loss: 1.2294\n",
            "Epoch 27: val_accuracy improved from 0.52148 to 0.52930, saving model to /content/drive/MyDrive/best_model.weights.h5\n",
            "\u001b[1m192/192\u001b[0m \u001b[32m━━━━━━━━━━━━━━━━━━━━\u001b[0m\u001b[37m\u001b[0m \u001b[1m18s\u001b[0m 95ms/step - accuracy: 0.4397 - loss: 1.2295 - val_accuracy: 0.5293 - val_loss: 1.1565\n",
            "Epoch 28/40\n",
            "\u001b[1m192/192\u001b[0m \u001b[32m━━━━━━━━━━━━━━━━━━━━\u001b[0m\u001b[37m\u001b[0m \u001b[1m0s\u001b[0m 67ms/step - accuracy: 0.4160 - loss: 1.3065\n",
            "Epoch 28: val_accuracy did not improve from 0.52930\n",
            "\u001b[1m192/192\u001b[0m \u001b[32m━━━━━━━━━━━━━━━━━━━━\u001b[0m\u001b[37m\u001b[0m \u001b[1m15s\u001b[0m 77ms/step - accuracy: 0.4161 - loss: 1.3063 - val_accuracy: 0.5182 - val_loss: 1.3205\n",
            "Epoch 29/40\n",
            "\u001b[1m192/192\u001b[0m \u001b[32m━━━━━━━━━━━━━━━━━━━━\u001b[0m\u001b[37m\u001b[0m \u001b[1m0s\u001b[0m 63ms/step - accuracy: 0.4202 - loss: 1.3452\n",
            "Epoch 29: val_accuracy did not improve from 0.52930\n",
            "\u001b[1m192/192\u001b[0m \u001b[32m━━━━━━━━━━━━━━━━━━━━\u001b[0m\u001b[37m\u001b[0m \u001b[1m14s\u001b[0m 74ms/step - accuracy: 0.4203 - loss: 1.3453 - val_accuracy: 0.4824 - val_loss: 2.1508\n",
            "Epoch 30/40\n",
            "\u001b[1m192/192\u001b[0m \u001b[32m━━━━━━━━━━━━━━━━━━━━\u001b[0m\u001b[37m\u001b[0m \u001b[1m0s\u001b[0m 63ms/step - accuracy: 0.3514 - loss: 1.5984\n",
            "Epoch 30: val_accuracy did not improve from 0.52930\n",
            "\u001b[1m192/192\u001b[0m \u001b[32m━━━━━━━━━━━━━━━━━━━━\u001b[0m\u001b[37m\u001b[0m \u001b[1m14s\u001b[0m 74ms/step - accuracy: 0.3516 - loss: 1.5974 - val_accuracy: 0.5091 - val_loss: 1.6972\n",
            "Epoch 31/40\n",
            "\u001b[1m192/192\u001b[0m \u001b[32m━━━━━━━━━━━━━━━━━━━━\u001b[0m\u001b[37m\u001b[0m \u001b[1m0s\u001b[0m 63ms/step - accuracy: 0.4222 - loss: 1.4063\n",
            "Epoch 31: val_accuracy did not improve from 0.52930\n",
            "\u001b[1m192/192\u001b[0m \u001b[32m━━━━━━━━━━━━━━━━━━━━\u001b[0m\u001b[37m\u001b[0m \u001b[1m14s\u001b[0m 74ms/step - accuracy: 0.4222 - loss: 1.4064 - val_accuracy: 0.4661 - val_loss: 1.8624\n",
            "Epoch 32/40\n",
            "\u001b[1m192/192\u001b[0m \u001b[32m━━━━━━━━━━━━━━━━━━━━\u001b[0m\u001b[37m\u001b[0m \u001b[1m0s\u001b[0m 63ms/step - accuracy: 0.3790 - loss: 1.5447\n",
            "Epoch 32: val_accuracy did not improve from 0.52930\n",
            "\u001b[1m192/192\u001b[0m \u001b[32m━━━━━━━━━━━━━━━━━━━━\u001b[0m\u001b[37m\u001b[0m \u001b[1m14s\u001b[0m 74ms/step - accuracy: 0.3790 - loss: 1.5448 - val_accuracy: 0.4577 - val_loss: 4.3334\n",
            "Epoch 33/40\n",
            "\u001b[1m192/192\u001b[0m \u001b[32m━━━━━━━━━━━━━━━━━━━━\u001b[0m\u001b[37m\u001b[0m \u001b[1m0s\u001b[0m 63ms/step - accuracy: 0.2877 - loss: 1.9983\n",
            "Epoch 33: val_accuracy did not improve from 0.52930\n",
            "\u001b[1m192/192\u001b[0m \u001b[32m━━━━━━━━━━━━━━━━━━━━\u001b[0m\u001b[37m\u001b[0m \u001b[1m14s\u001b[0m 73ms/step - accuracy: 0.2877 - loss: 1.9963 - val_accuracy: 0.4342 - val_loss: 4.3159\n",
            "Epoch 34/40\n",
            "\u001b[1m192/192\u001b[0m \u001b[32m━━━━━━━━━━━━━━━━━━━━\u001b[0m\u001b[37m\u001b[0m \u001b[1m0s\u001b[0m 63ms/step - accuracy: 0.3273 - loss: 1.9921\n",
            "Epoch 34: val_accuracy did not improve from 0.52930\n",
            "\u001b[1m192/192\u001b[0m \u001b[32m━━━━━━━━━━━━━━━━━━━━\u001b[0m\u001b[37m\u001b[0m \u001b[1m14s\u001b[0m 74ms/step - accuracy: 0.3272 - loss: 1.9906 - val_accuracy: 0.4694 - val_loss: 1.2144\n",
            "Epoch 35/40\n",
            "\u001b[1m192/192\u001b[0m \u001b[32m━━━━━━━━━━━━━━━━━━━━\u001b[0m\u001b[37m\u001b[0m \u001b[1m0s\u001b[0m 64ms/step - accuracy: 0.3683 - loss: 1.5011\n",
            "Epoch 35: val_accuracy did not improve from 0.52930\n",
            "\u001b[1m192/192\u001b[0m \u001b[32m━━━━━━━━━━━━━━━━━━━━\u001b[0m\u001b[37m\u001b[0m \u001b[1m14s\u001b[0m 74ms/step - accuracy: 0.3683 - loss: 1.5023 - val_accuracy: 0.4082 - val_loss: 4.7937\n",
            "Epoch 36/40\n",
            "\u001b[1m192/192\u001b[0m \u001b[32m━━━━━━━━━━━━━━━━━━━━\u001b[0m\u001b[37m\u001b[0m \u001b[1m0s\u001b[0m 63ms/step - accuracy: 0.2800 - loss: 1.7146\n",
            "Epoch 36: val_accuracy did not improve from 0.52930\n",
            "\u001b[1m192/192\u001b[0m \u001b[32m━━━━━━━━━━━━━━━━━━━━\u001b[0m\u001b[37m\u001b[0m \u001b[1m14s\u001b[0m 74ms/step - accuracy: 0.2802 - loss: 1.7139 - val_accuracy: 0.4342 - val_loss: 3.1875\n",
            "Epoch 37/40\n",
            "\u001b[1m192/192\u001b[0m \u001b[32m━━━━━━━━━━━━━━━━━━━━\u001b[0m\u001b[37m\u001b[0m \u001b[1m0s\u001b[0m 63ms/step - accuracy: 0.3415 - loss: 2.5964\n",
            "Epoch 37: val_accuracy did not improve from 0.52930\n",
            "\u001b[1m192/192\u001b[0m \u001b[32m━━━━━━━━━━━━━━━━━━━━\u001b[0m\u001b[37m\u001b[0m \u001b[1m14s\u001b[0m 75ms/step - accuracy: 0.3416 - loss: 2.5966 - val_accuracy: 0.4245 - val_loss: 3.2429\n",
            "Epoch 38/40\n",
            "\u001b[1m192/192\u001b[0m \u001b[32m━━━━━━━━━━━━━━━━━━━━\u001b[0m\u001b[37m\u001b[0m \u001b[1m0s\u001b[0m 63ms/step - accuracy: 0.2802 - loss: 2.6121\n",
            "Epoch 38: val_accuracy did not improve from 0.52930\n",
            "\u001b[1m192/192\u001b[0m \u001b[32m━━━━━━━━━━━━━━━━━━━━\u001b[0m\u001b[37m\u001b[0m \u001b[1m14s\u001b[0m 74ms/step - accuracy: 0.2802 - loss: 2.6079 - val_accuracy: 0.4115 - val_loss: 1.3130\n",
            "Epoch 39/40\n",
            "\u001b[1m192/192\u001b[0m \u001b[32m━━━━━━━━━━━━━━━━━━━━\u001b[0m\u001b[37m\u001b[0m \u001b[1m0s\u001b[0m 63ms/step - accuracy: 0.3034 - loss: 1.4651\n",
            "Epoch 39: val_accuracy did not improve from 0.52930\n",
            "\u001b[1m192/192\u001b[0m \u001b[32m━━━━━━━━━━━━━━━━━━━━\u001b[0m\u001b[37m\u001b[0m \u001b[1m14s\u001b[0m 74ms/step - accuracy: 0.3035 - loss: 1.4650 - val_accuracy: 0.4681 - val_loss: 1.4158\n",
            "Epoch 40/40\n",
            "\u001b[1m192/192\u001b[0m \u001b[32m━━━━━━━━━━━━━━━━━━━━\u001b[0m\u001b[37m\u001b[0m \u001b[1m0s\u001b[0m 63ms/step - accuracy: 0.3521 - loss: 1.4509\n",
            "Epoch 40: val_accuracy did not improve from 0.52930\n",
            "\u001b[1m192/192\u001b[0m \u001b[32m━━━━━━━━━━━━━━━━━━━━\u001b[0m\u001b[37m\u001b[0m \u001b[1m14s\u001b[0m 74ms/step - accuracy: 0.3521 - loss: 1.4521 - val_accuracy: 0.3568 - val_loss: 22.5948\n"
          ]
        }
      ],
      "source": [
        "from tensorflow.keras.models import Sequential\n",
        "from tensorflow.keras.models import Model\n",
        "from tensorflow.keras.layers import Conv2D, MaxPooling2D, Flatten, Dense, Dropout, Rescaling, Input, RandomContrast, RandomBrightness, GlobalAveragePooling2D\n",
        "from tensorflow.keras.callbacks import ModelCheckpoint\n",
        "\n",
        "model = Sequential([\n",
        "    Rescaling(1./255),\n",
        "    RandomContrast(0.2),\n",
        "    RandomBrightness(0.2),\n",
        "    base_model,\n",
        "    Flatten(),\n",
        "    Dense(128, activation='relu'),\n",
        "    Dropout(DROPOUT),\n",
        "    Dense(64, activation='relu'),\n",
        "    Dropout(DROPOUT),\n",
        "    Dense(6, activation='softmax')\n",
        "])\n",
        "\n",
        "\n",
        "\n",
        "model.compile(optimizer= keras.optimizers.Adam(learning_rate=LEARNING),\n",
        "              loss= 'categorical_crossentropy',\n",
        "              metrics=['accuracy'])\n",
        "\n",
        "\n",
        "checkpoint = ModelCheckpoint(\n",
        "    filepath='/content/drive/MyDrive/best_model.weights.h5',\n",
        "    monitor='val_accuracy',\n",
        "    save_best_only=True,\n",
        "    save_weights_only=True,\n",
        "    mode='max',\n",
        "    verbose=1\n",
        ")\n",
        "\n",
        "\n",
        "history = model.fit(\n",
        "    train_dataset,\n",
        "    epochs=EPOCHS,\n",
        "    validation_data=validation_dataset,\n",
        "    callbacks=[checkpoint]\n",
        ")\n"
      ]
    },
    {
      "cell_type": "code",
      "execution_count": null,
      "metadata": {
        "id": "MmEBooNL618s"
      },
      "outputs": [],
      "source": [
        "# Load the trained model weight\n",
        "# from tensorflow.keras.models import Sequential\n",
        "# from tensorflow.keras.models import Model\n",
        "# from tensorflow.keras.layers import Conv2D, MaxPooling2D, Flatten, Dense, Dropout, Rescaling, Input, RandomContrast, RandomBrightness, GlobalAveragePooling2D\n",
        "# from tensorflow.keras.callbacks import ModelCheckpoint\n",
        "\n",
        "# model = Sequential([\n",
        "#     Rescaling(1./255),\n",
        "#     RandomContrast(0.2),\n",
        "#     RandomBrightness(0.2),\n",
        "#     base_model,\n",
        "#     Flatten(),\n",
        "#     Dense(128, activation='relu'),\n",
        "#     Dropout(DROPOUT),\n",
        "#     Dense(64, activation='relu'),\n",
        "#     Dropout(DROPOUT),\n",
        "#     Dense(6, activation='softmax')\n",
        "# ])\n",
        "\n",
        "# model.load_weights('/content/drive/MyDrive/best_model.weights.h5')"
      ]
    },
    {
      "cell_type": "code",
      "execution_count": null,
      "metadata": {
        "colab": {
          "base_uri": "https://localhost:8080/",
          "height": 465
        },
        "id": "RisTOkbauY6u",
        "outputId": "eb8a5ab2-e032-470a-d14c-80cb5ef184e4"
      },
      "outputs": [
        {
          "data": {
            "text/html": [
              "<pre style=\"white-space:pre;overflow-x:auto;line-height:normal;font-family:Menlo,'DejaVu Sans Mono',consolas,'Courier New',monospace\"><span style=\"font-weight: bold\">Model: \"sequential\"</span>\n",
              "</pre>\n"
            ],
            "text/plain": [
              "\u001b[1mModel: \"sequential\"\u001b[0m\n"
            ]
          },
          "metadata": {},
          "output_type": "display_data"
        },
        {
          "data": {
            "text/html": [
              "<pre style=\"white-space:pre;overflow-x:auto;line-height:normal;font-family:Menlo,'DejaVu Sans Mono',consolas,'Courier New',monospace\">┏━━━━━━━━━━━━━━━━━━━━━━━━━━━━━━━━━━━━━━┳━━━━━━━━━━━━━━━━━━━━━━━━━━━━━┳━━━━━━━━━━━━━━━━━┓\n",
              "┃<span style=\"font-weight: bold\"> Layer (type)                         </span>┃<span style=\"font-weight: bold\"> Output Shape                </span>┃<span style=\"font-weight: bold\">         Param # </span>┃\n",
              "┡━━━━━━━━━━━━━━━━━━━━━━━━━━━━━━━━━━━━━━╇━━━━━━━━━━━━━━━━━━━━━━━━━━━━━╇━━━━━━━━━━━━━━━━━┩\n",
              "│ rescaling (<span style=\"color: #0087ff; text-decoration-color: #0087ff\">Rescaling</span>)                │ (<span style=\"color: #00d7ff; text-decoration-color: #00d7ff\">None</span>, <span style=\"color: #00af00; text-decoration-color: #00af00\">224</span>, <span style=\"color: #00af00; text-decoration-color: #00af00\">224</span>, <span style=\"color: #00af00; text-decoration-color: #00af00\">3</span>)         │               <span style=\"color: #00af00; text-decoration-color: #00af00\">0</span> │\n",
              "├──────────────────────────────────────┼─────────────────────────────┼─────────────────┤\n",
              "│ random_contrast (<span style=\"color: #0087ff; text-decoration-color: #0087ff\">RandomContrast</span>)     │ (<span style=\"color: #00d7ff; text-decoration-color: #00d7ff\">None</span>, <span style=\"color: #00af00; text-decoration-color: #00af00\">224</span>, <span style=\"color: #00af00; text-decoration-color: #00af00\">224</span>, <span style=\"color: #00af00; text-decoration-color: #00af00\">3</span>)         │               <span style=\"color: #00af00; text-decoration-color: #00af00\">0</span> │\n",
              "├──────────────────────────────────────┼─────────────────────────────┼─────────────────┤\n",
              "│ random_brightness (<span style=\"color: #0087ff; text-decoration-color: #0087ff\">RandomBrightness</span>) │ (<span style=\"color: #00d7ff; text-decoration-color: #00d7ff\">None</span>, <span style=\"color: #00af00; text-decoration-color: #00af00\">224</span>, <span style=\"color: #00af00; text-decoration-color: #00af00\">224</span>, <span style=\"color: #00af00; text-decoration-color: #00af00\">3</span>)         │               <span style=\"color: #00af00; text-decoration-color: #00af00\">0</span> │\n",
              "├──────────────────────────────────────┼─────────────────────────────┼─────────────────┤\n",
              "│ vgg19 (<span style=\"color: #0087ff; text-decoration-color: #0087ff\">Functional</span>)                   │ (<span style=\"color: #00d7ff; text-decoration-color: #00d7ff\">None</span>, <span style=\"color: #00af00; text-decoration-color: #00af00\">7</span>, <span style=\"color: #00af00; text-decoration-color: #00af00\">7</span>, <span style=\"color: #00af00; text-decoration-color: #00af00\">512</span>)           │      <span style=\"color: #00af00; text-decoration-color: #00af00\">20,024,384</span> │\n",
              "├──────────────────────────────────────┼─────────────────────────────┼─────────────────┤\n",
              "│ flatten (<span style=\"color: #0087ff; text-decoration-color: #0087ff\">Flatten</span>)                    │ (<span style=\"color: #00d7ff; text-decoration-color: #00d7ff\">None</span>, <span style=\"color: #00af00; text-decoration-color: #00af00\">25088</span>)               │               <span style=\"color: #00af00; text-decoration-color: #00af00\">0</span> │\n",
              "├──────────────────────────────────────┼─────────────────────────────┼─────────────────┤\n",
              "│ dense (<span style=\"color: #0087ff; text-decoration-color: #0087ff\">Dense</span>)                        │ (<span style=\"color: #00d7ff; text-decoration-color: #00d7ff\">None</span>, <span style=\"color: #00af00; text-decoration-color: #00af00\">128</span>)                 │       <span style=\"color: #00af00; text-decoration-color: #00af00\">3,211,392</span> │\n",
              "├──────────────────────────────────────┼─────────────────────────────┼─────────────────┤\n",
              "│ dropout (<span style=\"color: #0087ff; text-decoration-color: #0087ff\">Dropout</span>)                    │ (<span style=\"color: #00d7ff; text-decoration-color: #00d7ff\">None</span>, <span style=\"color: #00af00; text-decoration-color: #00af00\">128</span>)                 │               <span style=\"color: #00af00; text-decoration-color: #00af00\">0</span> │\n",
              "├──────────────────────────────────────┼─────────────────────────────┼─────────────────┤\n",
              "│ dense_1 (<span style=\"color: #0087ff; text-decoration-color: #0087ff\">Dense</span>)                      │ (<span style=\"color: #00d7ff; text-decoration-color: #00d7ff\">None</span>, <span style=\"color: #00af00; text-decoration-color: #00af00\">64</span>)                  │           <span style=\"color: #00af00; text-decoration-color: #00af00\">8,256</span> │\n",
              "├──────────────────────────────────────┼─────────────────────────────┼─────────────────┤\n",
              "│ dropout_1 (<span style=\"color: #0087ff; text-decoration-color: #0087ff\">Dropout</span>)                  │ (<span style=\"color: #00d7ff; text-decoration-color: #00d7ff\">None</span>, <span style=\"color: #00af00; text-decoration-color: #00af00\">64</span>)                  │               <span style=\"color: #00af00; text-decoration-color: #00af00\">0</span> │\n",
              "├──────────────────────────────────────┼─────────────────────────────┼─────────────────┤\n",
              "│ dense_2 (<span style=\"color: #0087ff; text-decoration-color: #0087ff\">Dense</span>)                      │ (<span style=\"color: #00d7ff; text-decoration-color: #00d7ff\">None</span>, <span style=\"color: #00af00; text-decoration-color: #00af00\">6</span>)                   │             <span style=\"color: #00af00; text-decoration-color: #00af00\">390</span> │\n",
              "└──────────────────────────────────────┴─────────────────────────────┴─────────────────┘\n",
              "</pre>\n"
            ],
            "text/plain": [
              "┏━━━━━━━━━━━━━━━━━━━━━━━━━━━━━━━━━━━━━━┳━━━━━━━━━━━━━━━━━━━━━━━━━━━━━┳━━━━━━━━━━━━━━━━━┓\n",
              "┃\u001b[1m \u001b[0m\u001b[1mLayer (type)                        \u001b[0m\u001b[1m \u001b[0m┃\u001b[1m \u001b[0m\u001b[1mOutput Shape               \u001b[0m\u001b[1m \u001b[0m┃\u001b[1m \u001b[0m\u001b[1m        Param #\u001b[0m\u001b[1m \u001b[0m┃\n",
              "┡━━━━━━━━━━━━━━━━━━━━━━━━━━━━━━━━━━━━━━╇━━━━━━━━━━━━━━━━━━━━━━━━━━━━━╇━━━━━━━━━━━━━━━━━┩\n",
              "│ rescaling (\u001b[38;5;33mRescaling\u001b[0m)                │ (\u001b[38;5;45mNone\u001b[0m, \u001b[38;5;34m224\u001b[0m, \u001b[38;5;34m224\u001b[0m, \u001b[38;5;34m3\u001b[0m)         │               \u001b[38;5;34m0\u001b[0m │\n",
              "├──────────────────────────────────────┼─────────────────────────────┼─────────────────┤\n",
              "│ random_contrast (\u001b[38;5;33mRandomContrast\u001b[0m)     │ (\u001b[38;5;45mNone\u001b[0m, \u001b[38;5;34m224\u001b[0m, \u001b[38;5;34m224\u001b[0m, \u001b[38;5;34m3\u001b[0m)         │               \u001b[38;5;34m0\u001b[0m │\n",
              "├──────────────────────────────────────┼─────────────────────────────┼─────────────────┤\n",
              "│ random_brightness (\u001b[38;5;33mRandomBrightness\u001b[0m) │ (\u001b[38;5;45mNone\u001b[0m, \u001b[38;5;34m224\u001b[0m, \u001b[38;5;34m224\u001b[0m, \u001b[38;5;34m3\u001b[0m)         │               \u001b[38;5;34m0\u001b[0m │\n",
              "├──────────────────────────────────────┼─────────────────────────────┼─────────────────┤\n",
              "│ vgg19 (\u001b[38;5;33mFunctional\u001b[0m)                   │ (\u001b[38;5;45mNone\u001b[0m, \u001b[38;5;34m7\u001b[0m, \u001b[38;5;34m7\u001b[0m, \u001b[38;5;34m512\u001b[0m)           │      \u001b[38;5;34m20,024,384\u001b[0m │\n",
              "├──────────────────────────────────────┼─────────────────────────────┼─────────────────┤\n",
              "│ flatten (\u001b[38;5;33mFlatten\u001b[0m)                    │ (\u001b[38;5;45mNone\u001b[0m, \u001b[38;5;34m25088\u001b[0m)               │               \u001b[38;5;34m0\u001b[0m │\n",
              "├──────────────────────────────────────┼─────────────────────────────┼─────────────────┤\n",
              "│ dense (\u001b[38;5;33mDense\u001b[0m)                        │ (\u001b[38;5;45mNone\u001b[0m, \u001b[38;5;34m128\u001b[0m)                 │       \u001b[38;5;34m3,211,392\u001b[0m │\n",
              "├──────────────────────────────────────┼─────────────────────────────┼─────────────────┤\n",
              "│ dropout (\u001b[38;5;33mDropout\u001b[0m)                    │ (\u001b[38;5;45mNone\u001b[0m, \u001b[38;5;34m128\u001b[0m)                 │               \u001b[38;5;34m0\u001b[0m │\n",
              "├──────────────────────────────────────┼─────────────────────────────┼─────────────────┤\n",
              "│ dense_1 (\u001b[38;5;33mDense\u001b[0m)                      │ (\u001b[38;5;45mNone\u001b[0m, \u001b[38;5;34m64\u001b[0m)                  │           \u001b[38;5;34m8,256\u001b[0m │\n",
              "├──────────────────────────────────────┼─────────────────────────────┼─────────────────┤\n",
              "│ dropout_1 (\u001b[38;5;33mDropout\u001b[0m)                  │ (\u001b[38;5;45mNone\u001b[0m, \u001b[38;5;34m64\u001b[0m)                  │               \u001b[38;5;34m0\u001b[0m │\n",
              "├──────────────────────────────────────┼─────────────────────────────┼─────────────────┤\n",
              "│ dense_2 (\u001b[38;5;33mDense\u001b[0m)                      │ (\u001b[38;5;45mNone\u001b[0m, \u001b[38;5;34m6\u001b[0m)                   │             \u001b[38;5;34m390\u001b[0m │\n",
              "└──────────────────────────────────────┴─────────────────────────────┴─────────────────┘\n"
            ]
          },
          "metadata": {},
          "output_type": "display_data"
        },
        {
          "data": {
            "text/html": [
              "<pre style=\"white-space:pre;overflow-x:auto;line-height:normal;font-family:Menlo,'DejaVu Sans Mono',consolas,'Courier New',monospace\"><span style=\"font-weight: bold\"> Total params: </span><span style=\"color: #00af00; text-decoration-color: #00af00\">69,733,268</span> (266.01 MB)\n",
              "</pre>\n"
            ],
            "text/plain": [
              "\u001b[1m Total params: \u001b[0m\u001b[38;5;34m69,733,268\u001b[0m (266.01 MB)\n"
            ]
          },
          "metadata": {},
          "output_type": "display_data"
        },
        {
          "data": {
            "text/html": [
              "<pre style=\"white-space:pre;overflow-x:auto;line-height:normal;font-family:Menlo,'DejaVu Sans Mono',consolas,'Courier New',monospace\"><span style=\"font-weight: bold\"> Trainable params: </span><span style=\"color: #00af00; text-decoration-color: #00af00\">23,244,422</span> (88.67 MB)\n",
              "</pre>\n"
            ],
            "text/plain": [
              "\u001b[1m Trainable params: \u001b[0m\u001b[38;5;34m23,244,422\u001b[0m (88.67 MB)\n"
            ]
          },
          "metadata": {},
          "output_type": "display_data"
        },
        {
          "data": {
            "text/html": [
              "<pre style=\"white-space:pre;overflow-x:auto;line-height:normal;font-family:Menlo,'DejaVu Sans Mono',consolas,'Courier New',monospace\"><span style=\"font-weight: bold\"> Non-trainable params: </span><span style=\"color: #00af00; text-decoration-color: #00af00\">0</span> (0.00 B)\n",
              "</pre>\n"
            ],
            "text/plain": [
              "\u001b[1m Non-trainable params: \u001b[0m\u001b[38;5;34m0\u001b[0m (0.00 B)\n"
            ]
          },
          "metadata": {},
          "output_type": "display_data"
        },
        {
          "data": {
            "text/html": [
              "<pre style=\"white-space:pre;overflow-x:auto;line-height:normal;font-family:Menlo,'DejaVu Sans Mono',consolas,'Courier New',monospace\"><span style=\"font-weight: bold\"> Optimizer params: </span><span style=\"color: #00af00; text-decoration-color: #00af00\">46,488,846</span> (177.34 MB)\n",
              "</pre>\n"
            ],
            "text/plain": [
              "\u001b[1m Optimizer params: \u001b[0m\u001b[38;5;34m46,488,846\u001b[0m (177.34 MB)\n"
            ]
          },
          "metadata": {},
          "output_type": "display_data"
        }
      ],
      "source": [
        "model.summary()\n"
      ]
    },
    {
      "cell_type": "markdown",
      "metadata": {
        "id": "NtFOaIok7mGy"
      },
      "source": [
        "### Evaluation on validation set"
      ]
    },
    {
      "cell_type": "code",
      "execution_count": null,
      "metadata": {
        "id": "AEU_kFGM3ov8"
      },
      "outputs": [],
      "source": [
        "file_paths = validation_dataset.file_paths\n",
        "id_list = [int(filename.split(\"/\")[-1].split(\".\")[0]) for filename in file_paths]\n",
        "id_list"
      ]
    },
    {
      "cell_type": "code",
      "execution_count": null,
      "metadata": {
        "colab": {
          "base_uri": "https://localhost:8080/"
        },
        "id": "XtnI6pdI5ppY",
        "outputId": "b44dba92-f289-427a-ce58-a093e14f1896"
      },
      "outputs": [
        {
          "name": "stdout",
          "output_type": "stream",
          "text": [
            "\u001b[1m48/48\u001b[0m \u001b[32m━━━━━━━━━━━━━━━━━━━━\u001b[0m\u001b[37m\u001b[0m \u001b[1m2s\u001b[0m 40ms/step\n",
            "Overall accuracy: 0.529296875\n",
            "Classification report:\n",
            "              precision    recall  f1-score   support\n",
            "\n",
            "           1       0.61      0.64      0.62       363\n",
            "           2       0.62      0.59      0.60       382\n",
            "           3       0.54      0.59      0.57       328\n",
            "           4       0.43      0.39      0.41       228\n",
            "           5       0.32      0.46      0.38       161\n",
            "           6       0.00      0.00      0.00        74\n",
            "\n",
            "    accuracy                           0.53      1536\n",
            "   macro avg       0.42      0.44      0.43      1536\n",
            "weighted avg       0.51      0.53      0.52      1536\n",
            "\n"
          ]
        },
        {
          "name": "stderr",
          "output_type": "stream",
          "text": [
            "/usr/local/lib/python3.10/dist-packages/sklearn/metrics/_classification.py:1531: UndefinedMetricWarning: Precision is ill-defined and being set to 0.0 in labels with no predicted samples. Use `zero_division` parameter to control this behavior.\n",
            "  _warn_prf(average, modifier, f\"{metric.capitalize()} is\", len(result))\n",
            "/usr/local/lib/python3.10/dist-packages/sklearn/metrics/_classification.py:1531: UndefinedMetricWarning: Precision is ill-defined and being set to 0.0 in labels with no predicted samples. Use `zero_division` parameter to control this behavior.\n",
            "  _warn_prf(average, modifier, f\"{metric.capitalize()} is\", len(result))\n",
            "/usr/local/lib/python3.10/dist-packages/sklearn/metrics/_classification.py:1531: UndefinedMetricWarning: Precision is ill-defined and being set to 0.0 in labels with no predicted samples. Use `zero_division` parameter to control this behavior.\n",
            "  _warn_prf(average, modifier, f\"{metric.capitalize()} is\", len(result))\n"
          ]
        }
      ],
      "source": [
        "predictions = model.predict(validation_dataset)\n",
        "predicted_classes = np.argmax(predictions, axis=1)\n",
        "\n",
        "val_df = pd.DataFrame({'id': id_list, 'predicted_label': predicted_classes})\n",
        "metadata_df = pd.read_csv('/content/drive/MyDrive/COMP90086_2024_Project_train/train.csv')\n",
        "merged_df = pd.merge(metadata_df, val_df, on='id', how='inner')\n",
        "merged_df.to_csv('/content/drive/MyDrive/merged_df.csv', index=False)\n",
        "\n",
        "\n",
        "import pandas as pd\n",
        "from sklearn.metrics import accuracy_score, classification_report, f1_score\n",
        "\n",
        "overll_accuracy = accuracy_score(merged_df['stable_height'], merged_df['predicted_label'])\n",
        "classification_report = classification_report(merged_df['stable_height'], merged_df['predicted_label'])\n",
        "\n",
        "print(f\"Overall accuracy: {overll_accuracy}\")\n",
        "print(f\"Classification report:\\n{classification_report}\")"
      ]
    },
    {
      "cell_type": "code",
      "execution_count": null,
      "metadata": {
        "id": "6rGC91vY7AFH"
      },
      "outputs": [],
      "source": [
        "import pandas as pd\n",
        "from sklearn.metrics import accuracy_score, classification_report, f1_score\n",
        "\n",
        "# Compute overall performance accuracy / classification_report\n",
        "overll_accuracy = accuracy_score(merged_df['stable_height'], merged_df['predicted_label'])\n",
        "classification_report = classification_report(merged_df['stable_height'], merged_df['predicted_label'])\n",
        "\n",
        "print(f\"Overall accuracy: {overll_accuracy}\")\n",
        "print(f\"Classification report:\\n{classification_report}\")\n",
        "\n",
        "# Compare the accuracy across different camera angle / Only cube versus different shapes / instability type / easy or hard\n",
        "angle_accuracy = merged_df.groupby('cam_angle').apply(lambda x: accuracy_score(x['stable_height'], x['predicted_label'])).to_dict()\n",
        "shape_accuracy = merged_df.groupby('shapeset').apply(lambda x: accuracy_score(x['stable_height'], x['predicted_label'])).to_dict()\n",
        "instability_accuracy = merged_df.groupby('instability_type').apply(lambda x: accuracy_score(x['stable_height'], x['predicted_label'])).to_dict()\n",
        "type_accuracy = merged_df.groupby('type').apply(lambda x: accuracy_score(x['stable_height'], x['predicted_label'])).to_dict()\n",
        "\n",
        "# angle_f1 = merged_df.groupby('cam_angle').apply(lambda x: f1_score(x['stable_height'], x['predicted_label'], average=\"macro\")).to_dict()\n",
        "# shape_f1 = merged_df.groupby('shapeset').apply(lambda x: f1_score(x['stable_height'], x['predicted_label'], average=\"macro\")).to_dict()\n",
        "# instability_f1 = merged_df.groupby('instability_type').apply(lambda x: f1_score(x['stable_height'], x['predicted_label'], average=\"macro\")).to_dict()\n",
        "# type_f1 = merged_df.groupby('type').apply(lambda x: f1_score(x['stable_height'], x['predicted_label'], average=\"macro\")).to_dict()"
      ]
    },
    {
      "cell_type": "markdown",
      "metadata": {
        "id": "QIvA7FWx7seP"
      },
      "source": [
        "### Generate test label"
      ]
    },
    {
      "cell_type": "code",
      "execution_count": null,
      "metadata": {
        "colab": {
          "base_uri": "https://localhost:8080/"
        },
        "id": "zDQm7itJt8ei",
        "outputId": "a1d0d09d-bb93-403c-b47e-52cf75a24a4b"
      },
      "outputs": [
        {
          "name": "stdout",
          "output_type": "stream",
          "text": [
            "Found 1920 files.\n",
            "\u001b[1m60/60\u001b[0m \u001b[32m━━━━━━━━━━━━━━━━━━━━\u001b[0m\u001b[37m\u001b[0m \u001b[1m19s\u001b[0m 328ms/step\n"
          ]
        }
      ],
      "source": [
        "import tensorflow as tf\n",
        "\n",
        "test_img_dir = '/content/drive/MyDrive/COMP90086_2024_Project_test/test'\n",
        "\n",
        "test_dataset = tf.keras.utils.image_dataset_from_directory(\n",
        "    test_img_dir,\n",
        "    labels=None,\n",
        "    shuffle=False,\n",
        "    image_size=(DIM, DIM),\n",
        "    batch_size=BATCH,\n",
        "    label_mode=None\n",
        ")\n",
        "\n",
        "\n",
        "test_df['id'] = test_df['id'].astype(str)\n",
        "test_df.sort_values(\"id\", inplace=True)\n",
        "\n",
        "predictions = model.predict(test_dataset)\n",
        "\n",
        "\n",
        "predicted_classes = np.argmax(predictions, axis=1)\n",
        "\n",
        "\n",
        "submission_df = pd.DataFrame({'id': test_df['id'], 'stable_height': predicted_classes})\n",
        "\n",
        "submission_df['id'] = submission_df['id'].astype(int)\n",
        "submission_df.sort_values(\"id\", inplace=True)\n",
        "\n",
        "submission_df.to_csv('/content/drive/MyDrive/COMP90086_2024_Project_test/test_predict_VGG.csv', index=False)\n"
      ]
    }
  ],
  "metadata": {
    "accelerator": "GPU",
    "colab": {
      "gpuType": "A100",
      "machine_shape": "hm",
      "provenance": []
    },
    "kernelspec": {
      "display_name": "Python 3",
      "name": "python3"
    },
    "language_info": {
      "name": "python"
    }
  },
  "nbformat": 4,
  "nbformat_minor": 0
}
